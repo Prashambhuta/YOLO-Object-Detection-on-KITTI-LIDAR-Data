{
 "cells": [
  {
   "cell_type": "markdown",
   "id": "fc74a1c2-d090-4440-b22c-aa1b99d8e3b6",
   "metadata": {},
   "source": [
    "# Training on images."
   ]
  },
  {
   "cell_type": "code",
   "execution_count": null,
   "id": "7c77caee-cb0f-457e-9feb-9de26d03596a",
   "metadata": {},
   "outputs": [],
   "source": []
  }
 ],
 "metadata": {
  "kernelspec": {
   "display_name": "lidar-obj-det",
   "language": "python",
   "name": "lidar-obj-det"
  },
  "language_info": {
   "codemirror_mode": {
    "name": "ipython",
    "version": 3
   },
   "file_extension": ".py",
   "mimetype": "text/x-python",
   "name": "python",
   "nbconvert_exporter": "python",
   "pygments_lexer": "ipython3",
   "version": "3.9.16"
  }
 },
 "nbformat": 4,
 "nbformat_minor": 5
}
